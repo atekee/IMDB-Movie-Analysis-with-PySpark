{
 "cells": [
  {
   "cell_type": "markdown",
   "id": "b463eb60",
   "metadata": {},
   "source": [
    "# Atabay Kadiroglu - CIS9760 - Movie Analysis"
   ]
  },
  {
   "cell_type": "code",
   "execution_count": 1,
   "id": "1f622a30",
   "metadata": {},
   "outputs": [
    {
     "data": {
      "application/vnd.jupyter.widget-view+json": {
       "model_id": "cae9febf18034554987952831ff5cba5",
       "version_major": 2,
       "version_minor": 0
      },
      "text/plain": [
       "VBox()"
      ]
     },
     "metadata": {},
     "output_type": "display_data"
    },
    {
     "name": "stdout",
     "output_type": "stream",
     "text": [
      "Starting Spark application\n"
     ]
    },
    {
     "data": {
      "text/html": [
       "<table>\n",
       "<tr><th>ID</th><th>YARN Application ID</th><th>Kind</th><th>State</th><th>Spark UI</th><th>Driver log</th><th>Current session?</th></tr><tr><td>2</td><td>application_1650582069388_0003</td><td>pyspark</td><td>idle</td><td><a target=\"_blank\" href=\"http://ip-172-31-10-98.ec2.internal:20888/proxy/application_1650582069388_0003/\">Link</a></td><td><a target=\"_blank\" href=\"http://ip-172-31-14-39.ec2.internal:8042/node/containerlogs/container_1650582069388_0003_01_000001/livy\">Link</a></td><td>✔</td></tr></table>"
      ],
      "text/plain": [
       "<IPython.core.display.HTML object>"
      ]
     },
     "metadata": {},
     "output_type": "display_data"
    },
    {
     "data": {
      "application/vnd.jupyter.widget-view+json": {
       "model_id": "",
       "version_major": 2,
       "version_minor": 0
      },
      "text/plain": [
       "FloatProgress(value=0.0, bar_style='info', description='Progress:', layout=Layout(height='25px', width='50%'),…"
      ]
     },
     "metadata": {},
     "output_type": "display_data"
    },
    {
     "name": "stdout",
     "output_type": "stream",
     "text": [
      "SparkSession available as 'spark'.\n"
     ]
    },
    {
     "data": {
      "application/vnd.jupyter.widget-view+json": {
       "model_id": "",
       "version_major": 2,
       "version_minor": 0
      },
      "text/plain": [
       "FloatProgress(value=0.0, bar_style='info', description='Progress:', layout=Layout(height='25px', width='50%'),…"
      ]
     },
     "metadata": {},
     "output_type": "display_data"
    }
   ],
   "source": [
    "# The data comes from https://www.kaggle.com/datasets/ashirwadsangwan/imdb-dataset\n",
    "actors = spark.read.csv('s3://cis9760-imdb-dataset/name.basics.tsv', sep=r'\\t', header=True)\n",
    "genres = spark.read.csv('s3://cis9760-imdb-dataset/title.basics.tsv', sep=r'\\t', header=True)\n",
    "movie_actors = spark.read.csv('s3://cis9760-imdb-dataset/title.principals.tsv', sep=r'\\t', header=True)\n",
    "movie_ratings = spark.read.csv('s3://cis9760-imdb-dataset/title.ratings.tsv', sep=r'\\t', header=True)"
   ]
  },
  {
   "cell_type": "markdown",
   "id": "e51b3e46",
   "metadata": {},
   "source": [
    "# Content\n",
    "\n",
    "**<br />title.basics.tsv.gz - Contains the following information for titles:**\n",
    "<br />tconst (string) - alphanumeric unique identifier of the title.\n",
    "<br />titleType (string) – the type/format of the title (e.g. movie, short, tvseries, tvepisode, video, etc).\n",
    "<br />primaryTitle (string) – the more popular title / the title used by the filmmakers on promotional materials at the point of release.\n",
    "<br />originalTitle (string) - original title, in the original language.\n",
    "<br />isAdult (boolean) - 0: non-adult title; 1: adult title.\n",
    "<br />startYear (YYYY) – represents the release year of a title. In the case of TV Series, it is the series start year.\n",
    "<br />endYear (YYYY) – TV Series end year. for all other title types.\n",
    "<br />runtimeMinutes – primary runtime of the title, in minutes.\n",
    "<br />genres (string array) – includes up to three genres associated with the title.\n",
    "<br/><br/>\n",
    "**<br />title.principals.tsv – Contains the principal cast/crew for titles:**\n",
    "<br />tconst (string) - alphanumeric unique identifier of the title.\n",
    "<br />ordering (integer) – a number to uniquely identify rows for a given titleId.\n",
    "<br />nconst (string) - alphanumeric unique identifier of the name/person.\n",
    "<br />category (string) - the category of job that person was in.\n",
    "<br />job (string) - the specific job title if applicable, else.\n",
    "<br />characters (string) - the name of the character played if applicable, else.\n",
    "<br/><br/>\n",
    "**<br />title.ratings.tsv.gz – Contains the IMDb rating and votes information for titles:**\n",
    "<br />tconst (string) - alphanumeric unique identifier of the title.\n",
    "<br />averageRating – weighted average of all the individual user ratings.\n",
    "<br />numVotes - number of votes the title has received.\n",
    "<br/><br/>\n",
    "**<br />name.basics.tsv.gz – Contains the following information for names:**\n",
    "<br />nconst (string) - alphanumeric unique identifier of the name/person.\n",
    "<br />primaryName (string)– name by which the person is most often credited.\n",
    "<br />birthYear – in YYYY format.\n",
    "<br />deathYear – in YYYY format if applicable, else .\n",
    "<br />primaryProfession (array of strings)– the top-3 professions of the person.\n",
    "<br />knownForTitles (array of tconsts) – titles the person is known for."
   ]
  },
  {
   "cell_type": "markdown",
   "id": "e67823d0",
   "metadata": {},
   "source": [
    "# Actors"
   ]
  },
  {
   "cell_type": "code",
   "execution_count": 2,
   "id": "27585c1d",
   "metadata": {},
   "outputs": [
    {
     "data": {
      "application/vnd.jupyter.widget-view+json": {
       "model_id": "72073a3919754df1bfbb664c15167811",
       "version_major": 2,
       "version_minor": 0
      },
      "text/plain": [
       "VBox()"
      ]
     },
     "metadata": {},
     "output_type": "display_data"
    },
    {
     "data": {
      "application/vnd.jupyter.widget-view+json": {
       "model_id": "",
       "version_major": 2,
       "version_minor": 0
      },
      "text/plain": [
       "FloatProgress(value=0.0, bar_style='info', description='Progress:', layout=Layout(height='25px', width='50%'),…"
      ]
     },
     "metadata": {},
     "output_type": "display_data"
    },
    {
     "name": "stdout",
     "output_type": "stream",
     "text": [
      "root\n",
      " |-- nconst: string (nullable = true)\n",
      " |-- primaryName: string (nullable = true)\n",
      " |-- birthYear: string (nullable = true)\n",
      " |-- deathYear: string (nullable = true)\n",
      " |-- primaryProfession: string (nullable = true)\n",
      " |-- knownForTitles: string (nullable = true)\n",
      "\n",
      "+---------+---------------+---------+---------+--------------------+--------------------+\n",
      "|   nconst|    primaryName|birthYear|deathYear|   primaryProfession|      knownForTitles|\n",
      "+---------+---------------+---------+---------+--------------------+--------------------+\n",
      "|nm0000001|   Fred Astaire|     1899|     1987|soundtrack,actor,...|tt0050419,tt00531...|\n",
      "|nm0000002|  Lauren Bacall|     1924|     2014|  actress,soundtrack|tt0071877,tt01170...|\n",
      "|nm0000003|Brigitte Bardot|     1934|       \\N|actress,soundtrac...|tt0054452,tt00491...|\n",
      "|nm0000004|   John Belushi|     1949|     1982|actor,writer,soun...|tt0077975,tt00725...|\n",
      "|nm0000005| Ingmar Bergman|     1918|     2007|writer,director,a...|tt0069467,tt00509...|\n",
      "|nm0000006| Ingrid Bergman|     1915|     1982|actress,soundtrac...|tt0038109,tt00368...|\n",
      "|nm0000007|Humphrey Bogart|     1899|     1957|actor,soundtrack,...|tt0043265,tt00338...|\n",
      "|nm0000008|  Marlon Brando|     1924|     2004|actor,soundtrack,...|tt0070849,tt00787...|\n",
      "|nm0000009| Richard Burton|     1925|     1984|actor,producer,so...|tt0057877,tt00878...|\n",
      "|nm0000010|   James Cagney|     1899|     1986|actor,soundtrack,...|tt0035575,tt00318...|\n",
      "+---------+---------------+---------+---------+--------------------+--------------------+\n",
      "only showing top 10 rows\n",
      "\n",
      "9706922"
     ]
    }
   ],
   "source": [
    "actors.printSchema()\n",
    "actors.show(10)\n",
    "actors.count()"
   ]
  },
  {
   "cell_type": "markdown",
   "id": "13d4b8ac",
   "metadata": {},
   "source": [
    "# Genres"
   ]
  },
  {
   "cell_type": "code",
   "execution_count": 3,
   "id": "fffcacdd",
   "metadata": {},
   "outputs": [
    {
     "data": {
      "application/vnd.jupyter.widget-view+json": {
       "model_id": "842d0c8215d3466880f6b46f599a8ae1",
       "version_major": 2,
       "version_minor": 0
      },
      "text/plain": [
       "VBox()"
      ]
     },
     "metadata": {},
     "output_type": "display_data"
    },
    {
     "data": {
      "application/vnd.jupyter.widget-view+json": {
       "model_id": "",
       "version_major": 2,
       "version_minor": 0
      },
      "text/plain": [
       "FloatProgress(value=0.0, bar_style='info', description='Progress:', layout=Layout(height='25px', width='50%'),…"
      ]
     },
     "metadata": {},
     "output_type": "display_data"
    },
    {
     "name": "stdout",
     "output_type": "stream",
     "text": [
      "root\n",
      " |-- tconst: string (nullable = true)\n",
      " |-- titleType: string (nullable = true)\n",
      " |-- primaryTitle: string (nullable = true)\n",
      " |-- originalTitle: string (nullable = true)\n",
      " |-- isAdult: string (nullable = true)\n",
      " |-- startYear: string (nullable = true)\n",
      " |-- endYear: string (nullable = true)\n",
      " |-- runtimeMinutes: string (nullable = true)\n",
      " |-- genres: string (nullable = true)\n",
      "\n",
      "+---------+---------+--------------------+--------------------+-------+---------+-------+--------------+-----------------+\n",
      "|   tconst|titleType|        primaryTitle|       originalTitle|isAdult|startYear|endYear|runtimeMinutes|           genres|\n",
      "+---------+---------+--------------------+--------------------+-------+---------+-------+--------------+-----------------+\n",
      "|tt0000001|    short|          Carmencita|          Carmencita|      0|     1894|     \\N|             1|Documentary,Short|\n",
      "|tt0000002|    short|Le clown et ses c...|Le clown et ses c...|      0|     1892|     \\N|             5|  Animation,Short|\n",
      "+---------+---------+--------------------+--------------------+-------+---------+-------+--------------+-----------------+\n",
      "only showing top 2 rows\n",
      "\n",
      "6321302"
     ]
    }
   ],
   "source": [
    "genres.printSchema()\n",
    "genres.show(2)\n",
    "genres.count()"
   ]
  },
  {
   "cell_type": "code",
   "execution_count": 4,
   "id": "2763bb0c",
   "metadata": {},
   "outputs": [
    {
     "data": {
      "application/vnd.jupyter.widget-view+json": {
       "model_id": "32364957f033486c8adce9a8cb19ceeb",
       "version_major": 2,
       "version_minor": 0
      },
      "text/plain": [
       "VBox()"
      ]
     },
     "metadata": {},
     "output_type": "display_data"
    },
    {
     "data": {
      "application/vnd.jupyter.widget-view+json": {
       "model_id": "",
       "version_major": 2,
       "version_minor": 0
      },
      "text/plain": [
       "FloatProgress(value=0.0, bar_style='info', description='Progress:', layout=Layout(height='25px', width='50%'),…"
      ]
     },
     "metadata": {},
     "output_type": "display_data"
    },
    {
     "name": "stdout",
     "output_type": "stream",
     "text": [
      "+--------------------+---------+--------------+-----------------+\n",
      "|        primaryTitle|startYear|runtimeMinutes|           genres|\n",
      "+--------------------+---------+--------------+-----------------+\n",
      "|          Carmencita|     1894|             1|Documentary,Short|\n",
      "|Le clown et ses c...|     1892|             5|  Animation,Short|\n",
      "+--------------------+---------+--------------+-----------------+\n",
      "only showing top 2 rows"
     ]
    }
   ],
   "source": [
    "genres.select(\"primaryTitle\", \"startYear\", \"runtimeMinutes\", \"genres\").show(2)"
   ]
  },
  {
   "cell_type": "code",
   "execution_count": 5,
   "id": "3a870670",
   "metadata": {},
   "outputs": [
    {
     "data": {
      "application/vnd.jupyter.widget-view+json": {
       "model_id": "c0ca8f018d214a4e968abe577930ebf4",
       "version_major": 2,
       "version_minor": 0
      },
      "text/plain": [
       "VBox()"
      ]
     },
     "metadata": {},
     "output_type": "display_data"
    },
    {
     "data": {
      "application/vnd.jupyter.widget-view+json": {
       "model_id": "",
       "version_major": 2,
       "version_minor": 0
      },
      "text/plain": [
       "FloatProgress(value=0.0, bar_style='info', description='Progress:', layout=Layout(height='25px', width='50%'),…"
      ]
     },
     "metadata": {},
     "output_type": "display_data"
    },
    {
     "name": "stdout",
     "output_type": "stream",
     "text": [
      "+--------------------+---------+--------------+-------------------+\n",
      "|        primaryTitle|startYear|runtimeMinutes|             genres|\n",
      "+--------------------+---------+--------------+-------------------+\n",
      "|   '62 Buick Special|       \\N|             4|        Music,Short|\n",
      "|             Call me|       \\N|            \\N|              Music|\n",
      "|          The Tailor|       \\N|            \\N|                 \\N|\n",
      "|                Ozob|       \\N|            \\N|       Sci-Fi,Short|\n",
      "|Making of Six: Un...|       \\N|            \\N|             Horror|\n",
      "|     Calea Pasarilor|       \\N|            \\N|              Drama|\n",
      "|The Archer Connec...|       \\N|            \\N|              Drama|\n",
      "|      Ancient Aliens|       \\N|            \\N|          Adventure|\n",
      "|            The Tape|       \\N|            \\N|     Mystery,Sci-Fi|\n",
      "|   The Second Coming|       \\N|            \\N|             Horror|\n",
      "|         A long walk|       \\N|            \\N|              Music|\n",
      "|              Dakkar|       \\N|            \\N|          Adventure|\n",
      "|All the man that ...|       \\N|            \\N|              Music|\n",
      "| Lady of the Shadows|       \\N|            \\N|    Horror,Thriller|\n",
      "|Ain't nobody like...|       \\N|            \\N|              Music|\n",
      "|        INDEFENSIBLE|       \\N|            \\N|    Action,Thriller|\n",
      "|     A woman's worth|       \\N|            \\N|              Music|\n",
      "|Castor: A Star Wa...|       \\N|            \\N|       Sci-Fi,Short|\n",
      "|           Appletree|       \\N|            \\N|              Music|\n",
      "|             Cupcake|       \\N|            33|Comedy,Crime,Sci-Fi|\n",
      "+--------------------+---------+--------------+-------------------+\n",
      "only showing top 20 rows"
     ]
    }
   ],
   "source": [
    "from pyspark.sql.functions import col\n",
    "genres.select(\"primaryTitle\", \"startYear\", \"runtimeMinutes\", \"genres\").sort(col(\"startYear\").desc()).show(20)"
   ]
  },
  {
   "cell_type": "code",
   "execution_count": 6,
   "id": "5540f35f",
   "metadata": {},
   "outputs": [
    {
     "data": {
      "application/vnd.jupyter.widget-view+json": {
       "model_id": "1356b6e0575943e4a6fcbc9ed33e2976",
       "version_major": 2,
       "version_minor": 0
      },
      "text/plain": [
       "VBox()"
      ]
     },
     "metadata": {},
     "output_type": "display_data"
    },
    {
     "data": {
      "application/vnd.jupyter.widget-view+json": {
       "model_id": "",
       "version_major": 2,
       "version_minor": 0
      },
      "text/plain": [
       "FloatProgress(value=0.0, bar_style='info', description='Progress:', layout=Layout(height='25px', width='50%'),…"
      ]
     },
     "metadata": {},
     "output_type": "display_data"
    },
    {
     "name": "stdout",
     "output_type": "stream",
     "text": [
      "+--------------------+---------+--------------+--------------------+\n",
      "|        primaryTitle|startYear|runtimeMinutes|              genres|\n",
      "+--------------------+---------+--------------+--------------------+\n",
      "|           100 Years|     2115|            \\N|               Drama|\n",
      "|            Avatar 5|     2027|            \\N|Action,Adventure,...|\n",
      "|     Greenoaks Drive|     2026|            \\N|               Drama|\n",
      "|Untitled Star War...|     2026|            \\N|Action,Adventure,...|\n",
      "|          Persephone|     2026|            \\N|             Fantasy|\n",
      "|Alien Interloper:...|     2026|            \\N|           Animation|\n",
      "|            Avatar 4|     2025|            \\N|Action,Adventure,...|\n",
      "|Ghost Hollow: Ano...|     2025|            \\N|        Horror,Short|\n",
      "| Blood Red Christmas|     2025|            \\N|              Horror|\n",
      "|               Frame|     2025|            \\N|         Documentary|\n",
      "|            The Race|     2024|            \\N|               Drama|\n",
      "|              Anna Q|     2024|            \\N|               Drama|\n",
      "|Alien Interloper:...|     2024|            85|           Animation|\n",
      "|     Artificial Soul|     2024|            \\N|                  \\N|\n",
      "|Büyük Istanbul De...|     2024|            \\N|             History|\n",
      "|Fantastic Beasts ...|     2024|            \\N|Adventure,Family,...|\n",
      "|    Sanctuary Abroad|     2024|            \\N|               Drama|\n",
      "|Mötley Crüe: Life...|     2024|            \\N|Biography,Drama,M...|\n",
      "|Untitled Star War...|     2024|            \\N|Action,Adventure,...|\n",
      "|Untitled Marvel (...|     2023|            \\N|                  \\N|\n",
      "+--------------------+---------+--------------+--------------------+\n",
      "only showing top 20 rows"
     ]
    }
   ],
   "source": [
    "from pyspark.sql.functions import col\n",
    "nll = '\\\\N'\n",
    "genres.select(\"primaryTitle\", \"startYear\", \"runtimeMinutes\", \"genres\") \\\n",
    "    .filter(col(\"startYear\") != nll) \\\n",
    "    .sort(col(\"startYear\").desc()).show(20)"
   ]
  },
  {
   "cell_type": "markdown",
   "id": "bfe5cbdc",
   "metadata": {},
   "source": [
    "# Movie Actors"
   ]
  },
  {
   "cell_type": "code",
   "execution_count": 7,
   "id": "f1a5c7a7",
   "metadata": {},
   "outputs": [
    {
     "data": {
      "application/vnd.jupyter.widget-view+json": {
       "model_id": "4c5e700de4d14b028d3b2624da1c53ef",
       "version_major": 2,
       "version_minor": 0
      },
      "text/plain": [
       "VBox()"
      ]
     },
     "metadata": {},
     "output_type": "display_data"
    },
    {
     "data": {
      "application/vnd.jupyter.widget-view+json": {
       "model_id": "",
       "version_major": 2,
       "version_minor": 0
      },
      "text/plain": [
       "FloatProgress(value=0.0, bar_style='info', description='Progress:', layout=Layout(height='25px', width='50%'),…"
      ]
     },
     "metadata": {},
     "output_type": "display_data"
    },
    {
     "name": "stdout",
     "output_type": "stream",
     "text": [
      "root\n",
      " |-- tconst: string (nullable = true)\n",
      " |-- ordering: string (nullable = true)\n",
      " |-- nconst: string (nullable = true)\n",
      " |-- category: string (nullable = true)\n",
      " |-- job: string (nullable = true)\n",
      " |-- characters: string (nullable = true)\n",
      "\n",
      "+---------+--------+---------+---------------+--------------------+-----------+\n",
      "|   tconst|ordering|   nconst|       category|                 job| characters|\n",
      "+---------+--------+---------+---------------+--------------------+-----------+\n",
      "|tt0000001|       1|nm1588970|           self|                  \\N|[\"Herself\"]|\n",
      "|tt0000001|       2|nm0005690|       director|                  \\N|         \\N|\n",
      "|tt0000001|       3|nm0374658|cinematographer|director of photo...|         \\N|\n",
      "|tt0000002|       1|nm0721526|       director|                  \\N|         \\N|\n",
      "|tt0000002|       2|nm1335271|       composer|                  \\N|         \\N|\n",
      "|tt0000003|       1|nm0721526|       director|                  \\N|         \\N|\n",
      "|tt0000003|       2|nm5442194|       producer|            producer|         \\N|\n",
      "|tt0000003|       3|nm1335271|       composer|                  \\N|         \\N|\n",
      "|tt0000003|       4|nm5442200|         editor|                  \\N|         \\N|\n",
      "|tt0000004|       1|nm0721526|       director|                  \\N|         \\N|\n",
      "+---------+--------+---------+---------------+--------------------+-----------+\n",
      "only showing top 10 rows\n",
      "\n",
      "33113510"
     ]
    }
   ],
   "source": [
    "movie_actors.printSchema()\n",
    "movie_actors.show(10)\n",
    "movie_actors.count()"
   ]
  },
  {
   "cell_type": "markdown",
   "id": "7b46a12a",
   "metadata": {},
   "source": [
    "# Movie Ratings"
   ]
  },
  {
   "cell_type": "code",
   "execution_count": 8,
   "id": "cdb60ccd",
   "metadata": {},
   "outputs": [
    {
     "data": {
      "application/vnd.jupyter.widget-view+json": {
       "model_id": "8249783a1e734125a7fae88f14dbf710",
       "version_major": 2,
       "version_minor": 0
      },
      "text/plain": [
       "VBox()"
      ]
     },
     "metadata": {},
     "output_type": "display_data"
    },
    {
     "data": {
      "application/vnd.jupyter.widget-view+json": {
       "model_id": "",
       "version_major": 2,
       "version_minor": 0
      },
      "text/plain": [
       "FloatProgress(value=0.0, bar_style='info', description='Progress:', layout=Layout(height='25px', width='50%'),…"
      ]
     },
     "metadata": {},
     "output_type": "display_data"
    },
    {
     "name": "stdout",
     "output_type": "stream",
     "text": [
      "root\n",
      " |-- tconst: string (nullable = true)\n",
      " |-- averageRating: string (nullable = true)\n",
      " |-- numVotes: string (nullable = true)\n",
      "\n",
      "+---------+-------------+--------+\n",
      "|   tconst|averageRating|numVotes|\n",
      "+---------+-------------+--------+\n",
      "|tt0000001|          5.6|    1550|\n",
      "|tt0000002|          6.1|     186|\n",
      "+---------+-------------+--------+\n",
      "only showing top 2 rows\n",
      "\n",
      "993821"
     ]
    }
   ],
   "source": [
    "movie_ratings.printSchema()\n",
    "movie_ratings.show(2)\n",
    "movie_ratings.count()"
   ]
  },
  {
   "cell_type": "code",
   "execution_count": 9,
   "id": "5a4330a8",
   "metadata": {},
   "outputs": [
    {
     "data": {
      "application/vnd.jupyter.widget-view+json": {
       "model_id": "1951f2a26d2f49b08e371c866909332a",
       "version_major": 2,
       "version_minor": 0
      },
      "text/plain": [
       "VBox()"
      ]
     },
     "metadata": {},
     "output_type": "display_data"
    },
    {
     "data": {
      "application/vnd.jupyter.widget-view+json": {
       "model_id": "",
       "version_major": 2,
       "version_minor": 0
      },
      "text/plain": [
       "FloatProgress(value=0.0, bar_style='info', description='Progress:', layout=Layout(height='25px', width='50%'),…"
      ]
     },
     "metadata": {},
     "output_type": "display_data"
    },
    {
     "name": "stdout",
     "output_type": "stream",
     "text": [
      "+----------+-------------+\n",
      "|    tconst|averageRating|\n",
      "+----------+-------------+\n",
      "| tt0647375|          9.9|\n",
      "| tt0626832|          9.9|\n",
      "| tt0536633|          9.9|\n",
      "|tt10136092|          9.9|\n",
      "| tt0500029|          9.9|\n",
      "| tt9588638|          9.9|\n",
      "| tt0646493|          9.9|\n",
      "| tt9738870|          9.9|\n",
      "| tt0620994|          9.9|\n",
      "| tt0621905|          9.9|\n",
      "| tt9914370|          9.9|\n",
      "| tt9791586|          9.9|\n",
      "| tt9673280|          9.9|\n",
      "| tt9867422|          9.9|\n",
      "| tt0509471|          9.9|\n",
      "| tt9882156|          9.9|\n",
      "| tt9712348|          9.9|\n",
      "| tt9898836|          9.9|\n",
      "| tt9764360|          9.9|\n",
      "| tt9901566|          9.9|\n",
      "+----------+-------------+\n",
      "only showing top 20 rows"
     ]
    }
   ],
   "source": [
    "movie_ratings.select(\"tconst\", \"averageRating\").sort(col(\"averageRating\").desc()).show(20)"
   ]
  },
  {
   "cell_type": "markdown",
   "id": "017a91cc",
   "metadata": {},
   "source": [
    "# Install the Libraries"
   ]
  },
  {
   "cell_type": "code",
   "execution_count": 10,
   "id": "e0024c7f",
   "metadata": {},
   "outputs": [
    {
     "data": {
      "application/vnd.jupyter.widget-view+json": {
       "model_id": "6fe5fd94757045448638048680e7e949",
       "version_major": 2,
       "version_minor": 0
      },
      "text/plain": [
       "VBox()"
      ]
     },
     "metadata": {},
     "output_type": "display_data"
    },
    {
     "data": {
      "application/vnd.jupyter.widget-view+json": {
       "model_id": "",
       "version_major": 2,
       "version_minor": 0
      },
      "text/plain": [
       "FloatProgress(value=0.0, bar_style='info', description='Progress:', layout=Layout(height='25px', width='50%'),…"
      ]
     },
     "metadata": {},
     "output_type": "display_data"
    },
    {
     "name": "stdout",
     "output_type": "stream",
     "text": [
      "Collecting matplotlib==3.2.1\n",
      "  Using cached https://files.pythonhosted.org/packages/b2/c2/71fcf957710f3ba1f09088b35776a799ba7dd95f7c2b195ec800933b276b/matplotlib-3.2.1-cp37-cp37m-manylinux1_x86_64.whl\n",
      "Collecting python-dateutil>=2.1 (from matplotlib==3.2.1)\n",
      "  Using cached https://files.pythonhosted.org/packages/36/7a/87837f39d0296e723bb9b62bbb257d0355c7f6128853c78955f57342a56d/python_dateutil-2.8.2-py2.py3-none-any.whl\n",
      "Collecting pyparsing!=2.0.4,!=2.1.2,!=2.1.6,>=2.0.1 (from matplotlib==3.2.1)\n",
      "  Using cached https://files.pythonhosted.org/packages/d9/41/d9cfb4410589805cd787f8a82cddd13142d9bf7449d12adf2d05a4a7d633/pyparsing-3.0.8-py3-none-any.whl\n",
      "Collecting cycler>=0.10 (from matplotlib==3.2.1)\n",
      "  Using cached https://files.pythonhosted.org/packages/5c/f9/695d6bedebd747e5eb0fe8fad57b72fdf25411273a39791cde838d5a8f51/cycler-0.11.0-py3-none-any.whl\n",
      "Requirement already satisfied: numpy>=1.11 in /usr/local/lib64/python3.7/site-packages (from matplotlib==3.2.1)\n",
      "Collecting kiwisolver>=1.0.1 (from matplotlib==3.2.1)\n",
      "  Using cached https://files.pythonhosted.org/packages/51/50/9a9a94afa26c50fc5d9127272737806990aa698c7a1c220b8e5075e70304/kiwisolver-1.4.2-cp37-cp37m-manylinux_2_5_x86_64.manylinux1_x86_64.whl\n",
      "Requirement already satisfied: six>=1.5 in /usr/local/lib/python3.7/site-packages (from python-dateutil>=2.1->matplotlib==3.2.1)\n",
      "Collecting typing-extensions; python_version < \"3.8\" (from kiwisolver>=1.0.1->matplotlib==3.2.1)\n",
      "  Using cached https://files.pythonhosted.org/packages/75/e1/932e06004039dd670c9d5e1df0cd606bf46e29a28e65d5bb28e894ea29c9/typing_extensions-4.2.0-py3-none-any.whl\n",
      "Installing collected packages: python-dateutil, pyparsing, cycler, typing-extensions, kiwisolver, matplotlib\n",
      "Successfully installed cycler-0.11.0 kiwisolver-1.4.2 matplotlib-3.2.1 pyparsing-3.0.8 python-dateutil-2.8.2 typing-extensions-4.2.0\n",
      "\n",
      "Collecting pandas==1.0.3\n",
      "  Using cached https://files.pythonhosted.org/packages/4a/6a/94b219b8ea0f2d580169e85ed1edc0163743f55aaeca8a44c2e8fc1e344e/pandas-1.0.3-cp37-cp37m-manylinux1_x86_64.whl\n",
      "Requirement already satisfied: pytz>=2017.2 in /usr/local/lib/python3.7/site-packages (from pandas==1.0.3)\n",
      "Requirement already satisfied: numpy>=1.13.3 in /usr/local/lib64/python3.7/site-packages (from pandas==1.0.3)\n",
      "Requirement already satisfied: python-dateutil>=2.6.1 in /mnt/tmp/1650733110757-0/lib/python3.7/site-packages (from pandas==1.0.3)\n",
      "Requirement already satisfied: six>=1.5 in /usr/local/lib/python3.7/site-packages (from python-dateutil>=2.6.1->pandas==1.0.3)\n",
      "Installing collected packages: pandas\n",
      "Successfully installed pandas-1.0.3"
     ]
    }
   ],
   "source": [
    "sc.install_pypi_package(\"matplotlib==3.2.1\")\n",
    "sc.install_pypi_package(\"pandas==1.0.3\")\n",
    "#sc.install_pypi_package(\"seaborn==0.11.2\")"
   ]
  },
  {
   "cell_type": "code",
   "execution_count": 11,
   "id": "11924e3a",
   "metadata": {},
   "outputs": [
    {
     "data": {
      "application/vnd.jupyter.widget-view+json": {
       "model_id": "67466bf66ab5420ca034a926f287f6b7",
       "version_major": 2,
       "version_minor": 0
      },
      "text/plain": [
       "VBox()"
      ]
     },
     "metadata": {},
     "output_type": "display_data"
    },
    {
     "data": {
      "application/vnd.jupyter.widget-view+json": {
       "model_id": "",
       "version_major": 2,
       "version_minor": 0
      },
      "text/plain": [
       "FloatProgress(value=0.0, bar_style='info', description='Progress:', layout=Layout(height='25px', width='50%'),…"
      ]
     },
     "metadata": {},
     "output_type": "display_data"
    }
   ],
   "source": [
    "import pandas as pd\n",
    "import numpy as np\n",
    "#import seaborn as sns\n",
    "import matplotlib.pyplot as plt"
   ]
  },
  {
   "cell_type": "markdown",
   "id": "c6987f2f",
   "metadata": {},
   "source": [
    "# What are the 10 most popular genres in this data set?"
   ]
  },
  {
   "cell_type": "code",
   "execution_count": 12,
   "id": "25b929ca",
   "metadata": {},
   "outputs": [
    {
     "data": {
      "application/vnd.jupyter.widget-view+json": {
       "model_id": "5dfadde22b9e43598f60279af46b36e9",
       "version_major": 2,
       "version_minor": 0
      },
      "text/plain": [
       "VBox()"
      ]
     },
     "metadata": {},
     "output_type": "display_data"
    },
    {
     "data": {
      "application/vnd.jupyter.widget-view+json": {
       "model_id": "",
       "version_major": 2,
       "version_minor": 0
      },
      "text/plain": [
       "FloatProgress(value=0.0, bar_style='info', description='Progress:', layout=Layout(height='25px', width='50%'),…"
      ]
     },
     "metadata": {},
     "output_type": "display_data"
    },
    {
     "name": "stdout",
     "output_type": "stream",
     "text": [
      "+---------+--------------------+---------+-------------+\n",
      "|   tconst|              genres|   tconst|averageRating|\n",
      "+---------+--------------------+---------+-------------+\n",
      "|tt0000028|   Documentary,Short|tt0000028|          5.1|\n",
      "|tt0000030|   Documentary,Short|tt0000030|          5.2|\n",
      "|tt0000170|        Comedy,Short|tt0000170|          5.2|\n",
      "|tt0000172| Comedy,Horror,Short|tt0000172|          6.0|\n",
      "|tt0000175|   Documentary,Short|tt0000175|          4.9|\n",
      "|tt0000198|               Short|tt0000198|          4.7|\n",
      "|tt0000242|Fantasy,Horror,Short|tt0000242|          6.3|\n",
      "|tt0000271|               Short|tt0000271|          7.3|\n",
      "|tt0000288|        Comedy,Short|tt0000288|          5.4|\n",
      "|tt0000302|               Short|tt0000302|          5.2|\n",
      "+---------+--------------------+---------+-------------+\n",
      "only showing top 10 rows"
     ]
    }
   ],
   "source": [
    "genres_only = genres.select(\"tconst\", \"genres\")\n",
    "movie_ratings_only = movie_ratings.select(\"tconst\", \"averageRating\")\n",
    "genres_ratings = genres_only.join(movie_ratings_only, genres_only.tconst == movie_ratings_only.tconst)\n",
    "genres_ratings.show(10)"
   ]
  },
  {
   "cell_type": "code",
   "execution_count": 13,
   "id": "3919ed0b",
   "metadata": {},
   "outputs": [
    {
     "data": {
      "application/vnd.jupyter.widget-view+json": {
       "model_id": "8ee8a7b374d2470da42aaa56ffe1afe3",
       "version_major": 2,
       "version_minor": 0
      },
      "text/plain": [
       "VBox()"
      ]
     },
     "metadata": {},
     "output_type": "display_data"
    },
    {
     "data": {
      "application/vnd.jupyter.widget-view+json": {
       "model_id": "",
       "version_major": 2,
       "version_minor": 0
      },
      "text/plain": [
       "FloatProgress(value=0.0, bar_style='info', description='Progress:', layout=Layout(height='25px', width='50%'),…"
      ]
     },
     "metadata": {},
     "output_type": "display_data"
    },
    {
     "name": "stdout",
     "output_type": "stream",
     "text": [
      "+---------+-----------------+---------+-------------+-----------+\n",
      "|   tconst|           genres|   tconst|averageRating|      genre|\n",
      "+---------+-----------------+---------+-------------+-----------+\n",
      "|tt0000028|Documentary,Short|tt0000028|          5.1|Documentary|\n",
      "|tt0000028|Documentary,Short|tt0000028|          5.1|      Short|\n",
      "|tt0000030|Documentary,Short|tt0000030|          5.2|Documentary|\n",
      "|tt0000030|Documentary,Short|tt0000030|          5.2|      Short|\n",
      "|tt0000170|     Comedy,Short|tt0000170|          5.2|     Comedy|\n",
      "|tt0000170|     Comedy,Short|tt0000170|          5.2|      Short|\n",
      "+---------+-----------------+---------+-------------+-----------+\n",
      "only showing top 6 rows"
     ]
    }
   ],
   "source": [
    "from pyspark.sql.functions import explode, split\n",
    "genres_ratings_exploded = genres_ratings.withColumn('genre',explode(split('genres',\",\")))\n",
    "genres_ratings_exploded.show(6)"
   ]
  },
  {
   "cell_type": "code",
   "execution_count": 14,
   "id": "a897af5d",
   "metadata": {},
   "outputs": [
    {
     "data": {
      "application/vnd.jupyter.widget-view+json": {
       "model_id": "9f7cbb4a33db4ed0bed4a2227286c3e7",
       "version_major": 2,
       "version_minor": 0
      },
      "text/plain": [
       "VBox()"
      ]
     },
     "metadata": {},
     "output_type": "display_data"
    },
    {
     "data": {
      "application/vnd.jupyter.widget-view+json": {
       "model_id": "",
       "version_major": 2,
       "version_minor": 0
      },
      "text/plain": [
       "FloatProgress(value=0.0, bar_style='info', description='Progress:', layout=Layout(height='25px', width='50%'),…"
      ]
     },
     "metadata": {},
     "output_type": "display_data"
    }
   ],
   "source": [
    "from pyspark.sql.functions import col, mean\n",
    "most_pop_genres = genres_ratings_exploded \\\n",
    "    .select(\"genre\", \"averageRating\") \\\n",
    "    .withColumn(\"averageRating\", col(\"averageRating\").cast(\"Integer\")) \\\n",
    "    .groupBy(\"genre\") \\\n",
    "    .agg(mean('averageRating').alias(\"avg_rating\")) \\\n",
    "    .sort(col(\"avg_rating\").desc())"
   ]
  },
  {
   "cell_type": "code",
   "execution_count": 15,
   "id": "fbda8bd3",
   "metadata": {},
   "outputs": [
    {
     "data": {
      "application/vnd.jupyter.widget-view+json": {
       "model_id": "f34c222cb8e94081bb6cc784b3f0da2e",
       "version_major": 2,
       "version_minor": 0
      },
      "text/plain": [
       "VBox()"
      ]
     },
     "metadata": {},
     "output_type": "display_data"
    },
    {
     "data": {
      "application/vnd.jupyter.widget-view+json": {
       "model_id": "",
       "version_major": 2,
       "version_minor": 0
      },
      "text/plain": [
       "FloatProgress(value=0.0, bar_style='info', description='Progress:', layout=Layout(height='25px', width='50%'),…"
      ]
     },
     "metadata": {},
     "output_type": "display_data"
    },
    {
     "name": "stdout",
     "output_type": "stream",
     "text": [
      "+-----------+-----------------+\n",
      "|      genre|       avg_rating|\n",
      "+-----------+-----------------+\n",
      "|    History| 6.86124801603876|\n",
      "|Documentary|6.798083249645046|\n",
      "|    Mystery|6.771227835396454|\n",
      "|  Biography|6.738967761775409|\n",
      "|      Crime|6.722250375095637|\n",
      "|    Western|6.667845303867403|\n",
      "|    Fantasy|6.651185268084241|\n",
      "|  Adventure|6.613992750285383|\n",
      "|  Animation|6.606347768203839|\n",
      "|        War|6.580771281322196|\n",
      "+-----------+-----------------+\n",
      "only showing top 10 rows"
     ]
    }
   ],
   "source": [
    "most_pop_genres.show(10)"
   ]
  },
  {
   "cell_type": "markdown",
   "id": "da98a618",
   "metadata": {},
   "source": [
    "# Which genres are most popular in terms of most movies made?"
   ]
  },
  {
   "cell_type": "code",
   "execution_count": 16,
   "id": "8b56e8a3",
   "metadata": {},
   "outputs": [
    {
     "data": {
      "application/vnd.jupyter.widget-view+json": {
       "model_id": "e0ec5e972aa0440ca2f376064b06cfab",
       "version_major": 2,
       "version_minor": 0
      },
      "text/plain": [
       "VBox()"
      ]
     },
     "metadata": {},
     "output_type": "display_data"
    },
    {
     "data": {
      "application/vnd.jupyter.widget-view+json": {
       "model_id": "",
       "version_major": 2,
       "version_minor": 0
      },
      "text/plain": [
       "FloatProgress(value=0.0, bar_style='info', description='Progress:', layout=Layout(height='25px', width='50%'),…"
      ]
     },
     "metadata": {},
     "output_type": "display_data"
    },
    {
     "name": "stdout",
     "output_type": "stream",
     "text": [
      "+-----------+------+\n",
      "|      genre| count|\n",
      "+-----------+------+\n",
      "|    Mystery| 44835|\n",
      "|    Musical| 10506|\n",
      "|      Sport| 16193|\n",
      "|     Action|115296|\n",
      "|  Talk-Show| 32427|\n",
      "|    Romance| 72082|\n",
      "|   Thriller| 39781|\n",
      "|         \\N| 20893|\n",
      "| Reality-TV| 44727|\n",
      "|     Family| 75740|\n",
      "|    Fantasy| 39316|\n",
      "|    History| 23942|\n",
      "|  Animation|108164|\n",
      "|  Film-Noir|   778|\n",
      "|      Short|130006|\n",
      "|     Sci-Fi| 28672|\n",
      "|       News| 13694|\n",
      "|      Drama|324858|\n",
      "|Documentary|115508|\n",
      "|    Western| 13575|\n",
      "+-----------+------+\n",
      "only showing top 20 rows"
     ]
    }
   ],
   "source": [
    "genres_grouped = genres_ratings_exploded.groupby('genre')\n",
    "genres_grouped.count().show()"
   ]
  },
  {
   "cell_type": "code",
   "execution_count": 17,
   "id": "792e81f8",
   "metadata": {},
   "outputs": [
    {
     "data": {
      "application/vnd.jupyter.widget-view+json": {
       "model_id": "62bfe12b511847f5b192254a99267250",
       "version_major": 2,
       "version_minor": 0
      },
      "text/plain": [
       "VBox()"
      ]
     },
     "metadata": {},
     "output_type": "display_data"
    },
    {
     "data": {
      "application/vnd.jupyter.widget-view+json": {
       "model_id": "",
       "version_major": 2,
       "version_minor": 0
      },
      "text/plain": [
       "FloatProgress(value=0.0, bar_style='info', description='Progress:', layout=Layout(height='25px', width='50%'),…"
      ]
     },
     "metadata": {},
     "output_type": "display_data"
    },
    {
     "name": "stdout",
     "output_type": "stream",
     "text": [
      "+-----------+------+\n",
      "|      genre| count|\n",
      "+-----------+------+\n",
      "|      Drama|324858|\n",
      "|     Comedy|316156|\n",
      "|      Short|130006|\n",
      "|Documentary|115508|\n",
      "|     Action|115296|\n",
      "|  Animation|108164|\n",
      "|      Crime|100641|\n",
      "|  Adventure| 99866|\n",
      "|     Family| 75740|\n",
      "|    Romance| 72082|\n",
      "|      Music| 46286|\n",
      "|    Mystery| 44835|\n",
      "| Reality-TV| 44727|\n",
      "|     Horror| 41350|\n",
      "|   Thriller| 39781|\n",
      "|    Fantasy| 39316|\n",
      "|  Talk-Show| 32427|\n",
      "|     Sci-Fi| 28672|\n",
      "|    History| 23942|\n",
      "|         \\N| 20893|\n",
      "+-----------+------+\n",
      "only showing top 20 rows"
     ]
    }
   ],
   "source": [
    "barchart_df = genres_grouped.count().orderBy('count',ascending=False)\n",
    "barchart_df.show()"
   ]
  },
  {
   "cell_type": "code",
   "execution_count": 18,
   "id": "88a28c54",
   "metadata": {},
   "outputs": [
    {
     "data": {
      "application/vnd.jupyter.widget-view+json": {
       "model_id": "eddfdfefb5044ed5a30aa741059de133",
       "version_major": 2,
       "version_minor": 0
      },
      "text/plain": [
       "VBox()"
      ]
     },
     "metadata": {},
     "output_type": "display_data"
    },
    {
     "data": {
      "application/vnd.jupyter.widget-view+json": {
       "model_id": "",
       "version_major": 2,
       "version_minor": 0
      },
      "text/plain": [
       "FloatProgress(value=0.0, bar_style='info', description='Progress:', layout=Layout(height='25px', width='50%'),…"
      ]
     },
     "metadata": {},
     "output_type": "display_data"
    },
    {
     "name": "stdout",
     "output_type": "stream",
     "text": [
      "          genre   count\n",
      "0         Drama  324858\n",
      "1        Comedy  316156\n",
      "2         Short  130006\n",
      "3   Documentary  115508\n",
      "4        Action  115296\n",
      "5     Animation  108164\n",
      "6         Crime  100641\n",
      "7     Adventure   99866\n",
      "8        Family   75740\n",
      "9       Romance   72082\n",
      "10        Music   46286\n",
      "11      Mystery   44835\n",
      "12   Reality-TV   44727\n",
      "13       Horror   41350\n",
      "14     Thriller   39781\n",
      "15      Fantasy   39316\n",
      "16    Talk-Show   32427\n",
      "17       Sci-Fi   28672\n",
      "18      History   23942\n",
      "19           \\N   20893\n",
      "20    Game-Show   19794\n",
      "21    Biography   19511\n",
      "22        Adult   17591\n",
      "23        Sport   16193\n",
      "24         News   13694\n",
      "25      Western   13575\n",
      "26          War   11254\n",
      "27      Musical   10506\n",
      "28    Film-Noir     778"
     ]
    }
   ],
   "source": [
    "pdf = barchart_df.toPandas()\n",
    "pdf"
   ]
  },
  {
   "cell_type": "code",
   "execution_count": 19,
   "id": "899eb216",
   "metadata": {},
   "outputs": [
    {
     "data": {
      "application/vnd.jupyter.widget-view+json": {
       "model_id": "df9dc8bb1b8e4fc8a80eb2f8a857ad8e",
       "version_major": 2,
       "version_minor": 0
      },
      "text/plain": [
       "VBox()"
      ]
     },
     "metadata": {},
     "output_type": "display_data"
    },
    {
     "data": {
      "application/vnd.jupyter.widget-view+json": {
       "model_id": "",
       "version_major": 2,
       "version_minor": 0
      },
      "text/plain": [
       "FloatProgress(value=0.0, bar_style='info', description='Progress:', layout=Layout(height='25px', width='50%'),…"
      ]
     },
     "metadata": {},
     "output_type": "display_data"
    },
    {
     "data": {
      "image/png": "[encoded data removed]",
      "text/plain": [
       "<IPython.core.display.Image object>"
      ]
     },
     "metadata": {},
     "output_type": "display_data"
    }
   ],
   "source": [
    "plt.figure(figsize =(10,6))\n",
    "pdf.plot(kind='bar', x='genre', figsize=(10,6))\n",
    "%matplot plt"
   ]
  },
  {
   "cell_type": "code",
   "execution_count": 20,
   "id": "45f2166b",
   "metadata": {},
   "outputs": [
    {
     "data": {
      "application/vnd.jupyter.widget-view+json": {
       "model_id": "f9337991c4a041bc84c0f38b5cd34a29",
       "version_major": 2,
       "version_minor": 0
      },
      "text/plain": [
       "VBox()"
      ]
     },
     "metadata": {},
     "output_type": "display_data"
    },
    {
     "data": {
      "application/vnd.jupyter.widget-view+json": {
       "model_id": "",
       "version_major": 2,
       "version_minor": 0
      },
      "text/plain": [
       "FloatProgress(value=0.0, bar_style='info', description='Progress:', layout=Layout(height='25px', width='50%'),…"
      ]
     },
     "metadata": {},
     "output_type": "display_data"
    },
    {
     "name": "stdout",
     "output_type": "stream",
     "text": [
      "'\\nax = sns.factorplot(x=\"genre\", y=\"count\", data=pdf,size=4, aspect=2, kind=\"bar\")\\nfor axes in ax.axes.flat:\\n axes.set_xticklabels(axes.get_xticklabels(), rotation=65, horizontalalignment=\\'right\\')\\nplt.tight_layout()\\nplt.show()\\n%matplot plt\\n'"
     ]
    }
   ],
   "source": [
    "'''\n",
    "ax = sns.factorplot(x=\"genre\", y=\"count\", data=pdf,size=4, aspect=2, kind=\"bar\")\n",
    "for axes in ax.axes.flat:\n",
    " axes.set_xticklabels(axes.get_xticklabels(), rotation=65, horizontalalignment='right')\n",
    "plt.tight_layout()\n",
    "plt.show()\n",
    "%matplot plt\n",
    "'''"
   ]
  },
  {
   "cell_type": "markdown",
   "id": "281189ac",
   "metadata": {},
   "source": [
    "# Find the total number of people who were born in 1980 and whose primary profession is soundtrack"
   ]
  },
  {
   "cell_type": "code",
   "execution_count": 21,
   "id": "8f779e4f",
   "metadata": {},
   "outputs": [
    {
     "data": {
      "application/vnd.jupyter.widget-view+json": {
       "model_id": "3c4c9e1565ff4bbd88269c192ecab21b",
       "version_major": 2,
       "version_minor": 0
      },
      "text/plain": [
       "VBox()"
      ]
     },
     "metadata": {},
     "output_type": "display_data"
    },
    {
     "data": {
      "application/vnd.jupyter.widget-view+json": {
       "model_id": "",
       "version_major": 2,
       "version_minor": 0
      },
      "text/plain": [
       "FloatProgress(value=0.0, bar_style='info', description='Progress:', layout=Layout(height='25px', width='50%'),…"
      ]
     },
     "metadata": {},
     "output_type": "display_data"
    },
    {
     "name": "stdout",
     "output_type": "stream",
     "text": [
      "41"
     ]
    }
   ],
   "source": [
    "from pyspark.sql.functions import split, col\n",
    "actors.withColumn('primaryProfession',explode(split('primaryProfession',\",\"))) \\\n",
    "    .filter((actors.primaryProfession == \"soundtrack\") & (actors.birthYear == '1980')) \\\n",
    "    .count()"
   ]
  },
  {
   "cell_type": "markdown",
   "id": "4ec319ad",
   "metadata": {},
   "source": [
    "# What year is the movie \"Dead Poets Society\" from?"
   ]
  },
  {
   "cell_type": "code",
   "execution_count": 22,
   "id": "76c6ce46",
   "metadata": {},
   "outputs": [
    {
     "data": {
      "application/vnd.jupyter.widget-view+json": {
       "model_id": "90c5e2fffdaa4601b354870cbe9912fb",
       "version_major": 2,
       "version_minor": 0
      },
      "text/plain": [
       "VBox()"
      ]
     },
     "metadata": {},
     "output_type": "display_data"
    },
    {
     "data": {
      "application/vnd.jupyter.widget-view+json": {
       "model_id": "",
       "version_major": 2,
       "version_minor": 0
      },
      "text/plain": [
       "FloatProgress(value=0.0, bar_style='info', description='Progress:', layout=Layout(height='25px', width='50%'),…"
      ]
     },
     "metadata": {},
     "output_type": "display_data"
    },
    {
     "name": "stdout",
     "output_type": "stream",
     "text": [
      "+---------+\n",
      "|startYear|\n",
      "+---------+\n",
      "|     1989|\n",
      "|     2019|\n",
      "|     2014|\n",
      "+---------+"
     ]
    }
   ],
   "source": [
    "genres.select(\"startYear\") \\\n",
    "    .filter(genres.primaryTitle == \"Dead Poets Society\") \\\n",
    "    .show()"
   ]
  },
  {
   "cell_type": "code",
   "execution_count": 23,
   "id": "386b3f1b",
   "metadata": {},
   "outputs": [
    {
     "data": {
      "application/vnd.jupyter.widget-view+json": {
       "model_id": "c991529e9e8242a5bc378c81aabda213",
       "version_major": 2,
       "version_minor": 0
      },
      "text/plain": [
       "VBox()"
      ]
     },
     "metadata": {},
     "output_type": "display_data"
    },
    {
     "data": {
      "application/vnd.jupyter.widget-view+json": {
       "model_id": "",
       "version_major": 2,
       "version_minor": 0
      },
      "text/plain": [
       "FloatProgress(value=0.0, bar_style='info', description='Progress:', layout=Layout(height='25px', width='50%'),…"
      ]
     },
     "metadata": {},
     "output_type": "display_data"
    },
    {
     "name": "stdout",
     "output_type": "stream",
     "text": [
      "+----------+---------+------------------+------------------+-------+---------+-------+--------------+------------+\n",
      "|    tconst|titleType|      primaryTitle|     originalTitle|isAdult|startYear|endYear|runtimeMinutes|      genres|\n",
      "+----------+---------+------------------+------------------+-------+---------+-------+--------------+------------+\n",
      "| tt0097165|    movie|Dead Poets Society|Dead Poets Society|      0|     1989|     \\N|           128|Comedy,Drama|\n",
      "|tt10545570|tvEpisode|Dead Poets Society|Dead Poets Society|      0|     2019|     \\N|            \\N|   Talk-Show|\n",
      "| tt9037200|tvEpisode|Dead Poets Society|Dead Poets Society|      0|     2014|     \\N|            \\N|       Music|\n",
      "+----------+---------+------------------+------------------+-------+---------+-------+--------------+------------+"
     ]
    }
   ],
   "source": [
    "## Oops! Three startYear? Doesn't make sense. Let's look at the data\n",
    "genres.filter(genres.primaryTitle == \"Dead Poets Society\") \\\n",
    "    .show()"
   ]
  },
  {
   "cell_type": "code",
   "execution_count": 24,
   "id": "7d0fd271",
   "metadata": {},
   "outputs": [
    {
     "data": {
      "application/vnd.jupyter.widget-view+json": {
       "model_id": "8c3fde4d605740a6a88ca4c317d7d81f",
       "version_major": 2,
       "version_minor": 0
      },
      "text/plain": [
       "VBox()"
      ]
     },
     "metadata": {},
     "output_type": "display_data"
    },
    {
     "data": {
      "application/vnd.jupyter.widget-view+json": {
       "model_id": "",
       "version_major": 2,
       "version_minor": 0
      },
      "text/plain": [
       "FloatProgress(value=0.0, bar_style='info', description='Progress:', layout=Layout(height='25px', width='50%'),…"
      ]
     },
     "metadata": {},
     "output_type": "display_data"
    },
    {
     "name": "stdout",
     "output_type": "stream",
     "text": [
      "+------------------+---------+\n",
      "|      primaryTitle|startYear|\n",
      "+------------------+---------+\n",
      "|Dead Poets Society|     1989|\n",
      "+------------------+---------+\n",
      "\n",
      "1"
     ]
    }
   ],
   "source": [
    "# Seems that there are tv episodes named the same\n",
    "# Let's do an additional filtering\n",
    "tmp=genres.select(\"primaryTitle\", \"startYear\") \\\n",
    "    .filter((genres.primaryTitle == \"Dead Poets Society\") & (genres.titleType == \"movie\"))\n",
    "tmp.show()\n",
    "tmp.count()"
   ]
  },
  {
   "cell_type": "markdown",
   "id": "19db2a92",
   "metadata": {},
   "source": [
    "# Find all the movies featuring \"Scarlett Johansson\" and \"Chris Evans\" (2 points)\n",
    "\n",
    "Hint 1: Join actors, genres, and movie_actors on each other.\n",
    "\n",
    "Hint 2: You might want to filter the genres DataFrame where the title type is movie.\n",
    "\n",
    "Note: If you already used knownForTitles from the Actors DataFrame for the movie list and got the same result in my previous notebook, that's also acceptable."
   ]
  },
  {
   "cell_type": "code",
   "execution_count": 25,
   "id": "ebb2ed44",
   "metadata": {},
   "outputs": [
    {
     "data": {
      "application/vnd.jupyter.widget-view+json": {
       "model_id": "ad0bfa0675b841d19cda8d0378c4a4f1",
       "version_major": 2,
       "version_minor": 0
      },
      "text/plain": [
       "VBox()"
      ]
     },
     "metadata": {},
     "output_type": "display_data"
    },
    {
     "data": {
      "application/vnd.jupyter.widget-view+json": {
       "model_id": "",
       "version_major": 2,
       "version_minor": 0
      },
      "text/plain": [
       "FloatProgress(value=0.0, bar_style='info', description='Progress:', layout=Layout(height='25px', width='50%'),…"
      ]
     },
     "metadata": {},
     "output_type": "display_data"
    }
   ],
   "source": [
    "gs = genres.select(\"tconst\", \"primaryTitle\", \"genres\", \"titleType\", \"startYear\")\n",
    "mas = movie_actors.select(\"tconst\", \"nconst\")\n",
    "acs = actors.select(\"nconst\", \"primaryName\", \"knownForTitles\")\n",
    "\n",
    "gs_mas=gs.join(mas, gs.tconst == mas.tconst).drop(gs.tconst)"
   ]
  },
  {
   "cell_type": "code",
   "execution_count": 26,
   "id": "59646e91",
   "metadata": {},
   "outputs": [
    {
     "data": {
      "application/vnd.jupyter.widget-view+json": {
       "model_id": "3534dcde514e4a6cbfdd016f89873c9e",
       "version_major": 2,
       "version_minor": 0
      },
      "text/plain": [
       "VBox()"
      ]
     },
     "metadata": {},
     "output_type": "display_data"
    },
    {
     "data": {
      "application/vnd.jupyter.widget-view+json": {
       "model_id": "",
       "version_major": 2,
       "version_minor": 0
      },
      "text/plain": [
       "FloatProgress(value=0.0, bar_style='info', description='Progress:', layout=Layout(height='25px', width='50%'),…"
      ]
     },
     "metadata": {},
     "output_type": "display_data"
    }
   ],
   "source": [
    "gs_mas_acs = gs_mas.join(acs, gs_mas.nconst == acs.nconst).drop(gs_mas.nconst)\n",
    "##gs_mas_acs.show()"
   ]
  },
  {
   "cell_type": "code",
   "execution_count": 27,
   "id": "c086c961",
   "metadata": {},
   "outputs": [
    {
     "data": {
      "application/vnd.jupyter.widget-view+json": {
       "model_id": "5a0e51443d5f465e9ea6e3ddee409182",
       "version_major": 2,
       "version_minor": 0
      },
      "text/plain": [
       "VBox()"
      ]
     },
     "metadata": {},
     "output_type": "display_data"
    },
    {
     "data": {
      "application/vnd.jupyter.widget-view+json": {
       "model_id": "",
       "version_major": 2,
       "version_minor": 0
      },
      "text/plain": [
       "FloatProgress(value=0.0, bar_style='info', description='Progress:', layout=Layout(height='25px', width='50%'),…"
      ]
     },
     "metadata": {},
     "output_type": "display_data"
    },
    {
     "name": "stdout",
     "output_type": "stream",
     "text": [
      "+-----------------------------------+\n",
      "|primaryTitle                       |\n",
      "+-----------------------------------+\n",
      "|Captain America: The Winter Soldier|\n",
      "|The Perfect Score                  |\n",
      "|The Avengers Assemble Premiere     |\n",
      "|The Avengers                       |\n",
      "|Captain America: Civil War         |\n",
      "+-----------------------------------+"
     ]
    }
   ],
   "source": [
    "scarlett = gs_mas_acs.select(\"primaryTitle\") \\\n",
    "    .filter((gs_mas_acs.primaryName == \"Scarlett Johansson\") & (gs_mas_acs.titleType == \"movie\"))\n",
    "\n",
    "chris = gs_mas_acs.select(\"primaryTitle\") \\\n",
    "    .filter((gs_mas_acs.primaryName == \"Chris Evans\") & (gs_mas_acs.titleType == \"movie\"))\n",
    "\n",
    "sc_movies = scarlett.join(chris, scarlett.primaryTitle == chris.primaryTitle).drop(scarlett.primaryTitle)\n",
    "sc_movies.show(truncate=False)"
   ]
  },
  {
   "cell_type": "markdown",
   "id": "9ca64597",
   "metadata": {},
   "source": [
    "# Find all the movies featuring \"Brad Pitt\" after 2010 (2 points)\n",
    "\n",
    "Hint 1: Join actors, genres, and movie_actors on each other.\n",
    "\n",
    "Hint 2: You might want to filter where the title type is movie.\n",
    "\n",
    "Note: If you already used knownForTitles from the Actors DataFrame for the movie list and got the same result in my previous notebook, that's also acceptable."
   ]
  },
  {
   "cell_type": "code",
   "execution_count": 28,
   "id": "c21ec5e7",
   "metadata": {},
   "outputs": [
    {
     "data": {
      "application/vnd.jupyter.widget-view+json": {
       "model_id": "61f3e6d21d7a4829b52ffbe4dffb798f",
       "version_major": 2,
       "version_minor": 0
      },
      "text/plain": [
       "VBox()"
      ]
     },
     "metadata": {},
     "output_type": "display_data"
    },
    {
     "data": {
      "application/vnd.jupyter.widget-view+json": {
       "model_id": "",
       "version_major": 2,
       "version_minor": 0
      },
      "text/plain": [
       "FloatProgress(value=0.0, bar_style='info', description='Progress:', layout=Layout(height='25px', width='50%'),…"
      ]
     },
     "metadata": {},
     "output_type": "display_data"
    },
    {
     "name": "stdout",
     "output_type": "stream",
     "text": [
      "+---------------------------------+---------+\n",
      "|primaryTitle                     |startYear|\n",
      "+---------------------------------+---------+\n",
      "|Babylon                          |2021     |\n",
      "|Kajillionaire                    |2020     |\n",
      "|Ad Astra                         |2019     |\n",
      "|Once Upon a Time ... in Hollywood|2019     |\n",
      "|The King                         |2019     |\n",
      "|Vice                             |2018     |\n",
      "|War Machine                      |2017     |\n",
      "|Allied                           |2016     |\n",
      "|Voyage of Time: Life's Journey   |2016     |\n",
      "|By the Sea                       |2015     |\n",
      "|The Big Short                    |2015     |\n",
      "|Hitting the Apex                 |2015     |\n",
      "|Fury                             |2014     |\n",
      "|Kick-Ass 2                       |2013     |\n",
      "|World War Z                      |2013     |\n",
      "|12 Years a Slave                 |2013     |\n",
      "|Killing Them Softly              |2012     |\n",
      "|The Tree of Life                 |2011     |\n",
      "|Moneyball                        |2011     |\n",
      "+---------------------------------+---------+"
     ]
    }
   ],
   "source": [
    "brad_after_2010 = gs_mas_acs.select(\"primaryTitle\", \"startYear\") \\\n",
    "                    .filter((gs_mas_acs.primaryName == \"Brad Pitt\") \n",
    "                            & (gs_mas_acs.titleType == \"movie\")\n",
    "                           & (gs_mas_acs.startYear > 2010)).sort(col(\"startYear\").desc()).show(truncate=False)"
   ]
  },
  {
   "cell_type": "markdown",
   "id": "8ff16dae",
   "metadata": {},
   "source": [
    "# What is the number of movies in which \"Emma Stone\" acted after 2015? (1 point)\n",
    "\n",
    "Hint 1: Join actors, genres, and movie_actors on each other.\n",
    "\n",
    "Hint 2: You might want to filter where the title type is movie.\n",
    "\n",
    "Hint 3: You can also filter the movies_actor DataFrame where the category is actress. If so, the results might be slightly different.\n",
    "\n",
    "Note: If you already used knownForTitles from the Actors DataFrame for the movie list and got the same result in my previous notebook, that's also acceptable."
   ]
  },
  {
   "cell_type": "code",
   "execution_count": 29,
   "id": "9e2d2cca",
   "metadata": {},
   "outputs": [
    {
     "data": {
      "application/vnd.jupyter.widget-view+json": {
       "model_id": "2dda7abc8113451f90555fe968c75cbb",
       "version_major": 2,
       "version_minor": 0
      },
      "text/plain": [
       "VBox()"
      ]
     },
     "metadata": {},
     "output_type": "display_data"
    },
    {
     "data": {
      "application/vnd.jupyter.widget-view+json": {
       "model_id": "",
       "version_major": 2,
       "version_minor": 0
      },
      "text/plain": [
       "FloatProgress(value=0.0, bar_style='info', description='Progress:', layout=Layout(height='25px', width='50%'),…"
      ]
     },
     "metadata": {},
     "output_type": "display_data"
    },
    {
     "name": "stdout",
     "output_type": "stream",
     "text": [
      "7"
     ]
    }
   ],
   "source": [
    "emma_after_2015 = gs_mas_acs.select(\"primaryTitle\", \"startYear\") \\\n",
    "                    .filter((gs_mas_acs.primaryName == \"Emma Stone\") \n",
    "                            & (gs_mas_acs.titleType == \"movie\")\n",
    "                           & (gs_mas_acs.startYear > 2015))\n",
    "emma_after_2015.count()"
   ]
  },
  {
   "cell_type": "markdown",
   "id": "37211054",
   "metadata": {},
   "source": [
    "# What is the number of movies acted by \"Chris Evans\" per year? (3 points)\n",
    "\n",
    "Hint 1: Join actors, genres, and movie_actors on each other.\n",
    "\n",
    "Hint 2: You might want to filter where the title type is movie.\n",
    "\n",
    "Hint 3: Sort the results in a descending order. \n",
    "\n",
    "Hint 4: If there is a null value, remove it. \n",
    "\n",
    "Hint 5: You can also filter the movies_actor DataFrame where the category is actor. If so, the results might be slightly different.\n",
    "\n",
    "Note: If you already used knownForTitles from the Actors DataFrame for the movie list and got the same result in my previous notebook, that's also acceptable."
   ]
  },
  {
   "cell_type": "code",
   "execution_count": 30,
   "id": "65b575af",
   "metadata": {},
   "outputs": [
    {
     "data": {
      "application/vnd.jupyter.widget-view+json": {
       "model_id": "33143203f189473a8d0f69c6049777a3",
       "version_major": 2,
       "version_minor": 0
      },
      "text/plain": [
       "VBox()"
      ]
     },
     "metadata": {},
     "output_type": "display_data"
    },
    {
     "data": {
      "application/vnd.jupyter.widget-view+json": {
       "model_id": "",
       "version_major": 2,
       "version_minor": 0
      },
      "text/plain": [
       "FloatProgress(value=0.0, bar_style='info', description='Progress:', layout=Layout(height='25px', width='50%'),…"
      ]
     },
     "metadata": {},
     "output_type": "display_data"
    }
   ],
   "source": [
    "chris_filtered = gs_mas_acs.select(\"startYear\", \"primaryTitle\") \\\n",
    "                    .filter((gs_mas_acs.primaryName == \"Chris Evans\") \n",
    "                            & (gs_mas_acs.titleType == \"movie\")\n",
    "                           & (col(\"startYear\") != nll))\n",
    "\n",
    "##chris_filtered.sort(col(\"startYear\").desc()).show()"
   ]
  },
  {
   "cell_type": "code",
   "execution_count": 31,
   "id": "33321c8b",
   "metadata": {},
   "outputs": [
    {
     "data": {
      "application/vnd.jupyter.widget-view+json": {
       "model_id": "a3a23b4cf0bc42cc98708c8d259f613e",
       "version_major": 2,
       "version_minor": 0
      },
      "text/plain": [
       "VBox()"
      ]
     },
     "metadata": {},
     "output_type": "display_data"
    },
    {
     "data": {
      "application/vnd.jupyter.widget-view+json": {
       "model_id": "",
       "version_major": 2,
       "version_minor": 0
      },
      "text/plain": [
       "FloatProgress(value=0.0, bar_style='info', description='Progress:', layout=Layout(height='25px', width='50%'),…"
      ]
     },
     "metadata": {},
     "output_type": "display_data"
    },
    {
     "name": "stdout",
     "output_type": "stream",
     "text": [
      "+---------+-----+\n",
      "|startYear|count|\n",
      "+---------+-----+\n",
      "|     2012|    4|\n",
      "|     2014|    3|\n",
      "|     2008|    3|\n",
      "|     2004|    3|\n",
      "|     2009|    3|\n",
      "|     2005|    3|\n",
      "|     2011|    3|\n",
      "|     2007|    3|\n",
      "|     2010|    2|\n",
      "|     2013|    2|\n",
      "|     2019|    2|\n",
      "|     2016|    2|\n",
      "|     2018|    1|\n",
      "|     2015|    1|\n",
      "|     2017|    1|\n",
      "|     2001|    1|\n",
      "+---------+-----+"
     ]
    }
   ],
   "source": [
    "chris_filtered.groupBy('startYear').count().sort(col(\"count\").desc()).show()"
   ]
  },
  {
   "cell_type": "markdown",
   "id": "1e26b532",
   "metadata": {},
   "source": [
    "# Find the number of comedy movies whose ratings are greater than or equal to 8.5 and produced after 2018 (2 points)\n",
    "\n",
    "Hint 1: Join genres on movie_actors.\n",
    "\n",
    "Hint 2: You might want to filter where the title type is movie."
   ]
  },
  {
   "cell_type": "code",
   "execution_count": 32,
   "id": "569d82a3",
   "metadata": {},
   "outputs": [
    {
     "data": {
      "application/vnd.jupyter.widget-view+json": {
       "model_id": "f2b352171dff4df587c85b8bd7daddd0",
       "version_major": 2,
       "version_minor": 0
      },
      "text/plain": [
       "VBox()"
      ]
     },
     "metadata": {},
     "output_type": "display_data"
    },
    {
     "data": {
      "application/vnd.jupyter.widget-view+json": {
       "model_id": "",
       "version_major": 2,
       "version_minor": 0
      },
      "text/plain": [
       "FloatProgress(value=0.0, bar_style='info', description='Progress:', layout=Layout(height='25px', width='50%'),…"
      ]
     },
     "metadata": {},
     "output_type": "display_data"
    }
   ],
   "source": [
    "gree = genres.withColumn('genre', explode(split('genres',\",\")))\n",
    "gre = gree.join(movie_ratings, gree.tconst == movie_ratings.tconst)\n",
    "##gre.show()"
   ]
  },
  {
   "cell_type": "code",
   "execution_count": 33,
   "id": "6c89921f",
   "metadata": {},
   "outputs": [
    {
     "data": {
      "application/vnd.jupyter.widget-view+json": {
       "model_id": "2894a450a4e24ca78cc03364eff4acf0",
       "version_major": 2,
       "version_minor": 0
      },
      "text/plain": [
       "VBox()"
      ]
     },
     "metadata": {},
     "output_type": "display_data"
    },
    {
     "data": {
      "application/vnd.jupyter.widget-view+json": {
       "model_id": "",
       "version_major": 2,
       "version_minor": 0
      },
      "text/plain": [
       "FloatProgress(value=0.0, bar_style='info', description='Progress:', layout=Layout(height='25px', width='50%'),…"
      ]
     },
     "metadata": {},
     "output_type": "display_data"
    },
    {
     "name": "stdout",
     "output_type": "stream",
     "text": [
      "[Row(genre='Mystery'), Row(genre='Musical'), Row(genre='Sport'), Row(genre='Action'), Row(genre='Talk-Show'), Row(genre='Romance'), Row(genre='Thriller'), Row(genre='\\\\N'), Row(genre='Reality-TV'), Row(genre='Family'), Row(genre='Fantasy'), Row(genre='History'), Row(genre='Animation'), Row(genre='Film-Noir'), Row(genre='Short'), Row(genre='Sci-Fi'), Row(genre='News'), Row(genre='Drama'), Row(genre='Documentary'), Row(genre='Western'), Row(genre='Comedy'), Row(genre='Crime'), Row(genre='War'), Row(genre='Game-Show'), Row(genre='Adult'), Row(genre='Music'), Row(genre='Biography'), Row(genre='Adventure'), Row(genre='Horror')]"
     ]
    }
   ],
   "source": [
    "gre.select('genre').distinct().collect()"
   ]
  },
  {
   "cell_type": "code",
   "execution_count": 34,
   "id": "e6aab11c",
   "metadata": {},
   "outputs": [
    {
     "data": {
      "application/vnd.jupyter.widget-view+json": {
       "model_id": "39e1071a559d4a7f9051c5984bd80820",
       "version_major": 2,
       "version_minor": 0
      },
      "text/plain": [
       "VBox()"
      ]
     },
     "metadata": {},
     "output_type": "display_data"
    },
    {
     "data": {
      "application/vnd.jupyter.widget-view+json": {
       "model_id": "",
       "version_major": 2,
       "version_minor": 0
      },
      "text/plain": [
       "FloatProgress(value=0.0, bar_style='info', description='Progress:', layout=Layout(height='25px', width='50%'),…"
      ]
     },
     "metadata": {},
     "output_type": "display_data"
    },
    {
     "name": "stdout",
     "output_type": "stream",
     "text": [
      "[Row(titleType='tvSeries'), Row(titleType='tvMiniSeries'), Row(titleType='movie'), Row(titleType='videoGame'), Row(titleType='tvSpecial'), Row(titleType='video'), Row(titleType='tvMovie'), Row(titleType='tvEpisode'), Row(titleType='tvShort'), Row(titleType='short')]"
     ]
    }
   ],
   "source": [
    "gre.select('titleType').distinct().collect()"
   ]
  },
  {
   "cell_type": "code",
   "execution_count": 40,
   "id": "2a05f481",
   "metadata": {},
   "outputs": [
    {
     "data": {
      "application/vnd.jupyter.widget-view+json": {
       "model_id": "63b8f7fe4af445469a75f48ef802d81c",
       "version_major": 2,
       "version_minor": 0
      },
      "text/plain": [
       "VBox()"
      ]
     },
     "metadata": {},
     "output_type": "display_data"
    },
    {
     "data": {
      "application/vnd.jupyter.widget-view+json": {
       "model_id": "",
       "version_major": 2,
       "version_minor": 0
      },
      "text/plain": [
       "FloatProgress(value=0.0, bar_style='info', description='Progress:', layout=Layout(height='25px', width='50%'),…"
      ]
     },
     "metadata": {},
     "output_type": "display_data"
    },
    {
     "name": "stdout",
     "output_type": "stream",
     "text": [
      "+------------------------------------------+---------+------+-------------+---------+\n",
      "|primaryTitle                              |startYear|genre |averageRating|titleType|\n",
      "+------------------------------------------+---------+------+-------------+---------+\n",
      "|Angrily Ever After                        |2019     |Comedy|8.7          |movie    |\n",
      "|O Filme do Bruno Aleixo                   |2019     |Comedy|9.0          |movie    |\n",
      "|Strastite Abiturientski                   |2019     |Comedy|8.8          |movie    |\n",
      "|Þorsti                                    |2019     |Comedy|8.6          |movie    |\n",
      "|Teacher Of The Year                       |2019     |Comedy|8.8          |movie    |\n",
      "|The Long Streak                           |2019     |Comedy|8.5          |movie    |\n",
      "|Anak Muda Palsu                           |2019     |Comedy|9.0          |movie    |\n",
      "|National Theatre Live: Fleabag            |2019     |Comedy|8.7          |movie    |\n",
      "|Horas Amang: Tiga Bulan untuk Selamanya   |2019     |Comedy|9.4          |movie    |\n",
      "|Sugar                                     |2019     |Comedy|9.2          |movie    |\n",
      "|A Grunt's Life                            |2019     |Comedy|10.0         |movie    |\n",
      "|Zagreb Equinox                            |2019     |Comedy|8.6          |movie    |\n",
      "|Girgit                                    |2019     |Comedy|9.7          |movie    |\n",
      "|Out and About Movie 2: Las Vegas Adventure|2019     |Comedy|9.0          |movie    |\n",
      "|Isa Pa with Feelings                      |2019     |Comedy|8.9          |movie    |\n",
      "+------------------------------------------+---------+------+-------------+---------+\n",
      "only showing top 15 rows"
     ]
    }
   ],
   "source": [
    "temp = gre.select(\"primaryTitle\", \"startYear\", \"genre\", col(\"averageRating\").cast(\"float\").alias(\"averageRating\"), \"titleType\") \\\n",
    "                .filter((gre.averageRating >= 8.5)\n",
    "                            & (gre.startYear != nll)\n",
    "                           & (gre.startYear > \"2018\")\n",
    "                       & (gre.genre == \"Comedy\")\n",
    "                       & (gre.titleType == \"movie\"))\n",
    "temp.show(15, truncate=False)"
   ]
  },
  {
   "cell_type": "code",
   "execution_count": 41,
   "id": "aed2cb87",
   "metadata": {},
   "outputs": [
    {
     "data": {
      "application/vnd.jupyter.widget-view+json": {
       "model_id": "baca84f2559e40c2bb6882e6d9b2d8bd",
       "version_major": 2,
       "version_minor": 0
      },
      "text/plain": [
       "VBox()"
      ]
     },
     "metadata": {},
     "output_type": "display_data"
    },
    {
     "data": {
      "application/vnd.jupyter.widget-view+json": {
       "model_id": "",
       "version_major": 2,
       "version_minor": 0
      },
      "text/plain": [
       "FloatProgress(value=0.0, bar_style='info', description='Progress:', layout=Layout(height='25px', width='50%'),…"
      ]
     },
     "metadata": {},
     "output_type": "display_data"
    },
    {
     "name": "stdout",
     "output_type": "stream",
     "text": [
      "67"
     ]
    }
   ],
   "source": [
    "temp.count()"
   ]
  }
 ],
 "metadata": {
  "kernelspec": {
   "display_name": "PySpark",
   "language": "",
   "name": "pysparkkernel"
  },
  "language_info": {
   "codemirror_mode": {
    "name": "python",
    "version": 2
   },
   "mimetype": "text/x-python",
   "name": "pyspark",
   "pygments_lexer": "python2"
  }
 },
 "nbformat": 4,
 "nbformat_minor": 5
}
